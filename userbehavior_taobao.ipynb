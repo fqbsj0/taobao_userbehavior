{
 "cells": [
  {
   "cell_type": "markdown",
   "metadata": {},
   "source": [
    "# AARRR"
   ]
  },
  {
   "cell_type": "code",
   "execution_count": 1,
   "metadata": {},
   "outputs": [],
   "source": [
    "import pandas as pd\n",
    "import datetime\n",
    "import matplotlib.pyplot as plt\n",
    "import numpy as np\n",
    "from pyecharts.charts import Funnel\n",
    "import pyecharts.options as opts"
   ]
  },
  {
   "cell_type": "code",
   "execution_count": 2,
   "metadata": {},
   "outputs": [
    {
     "data": {
      "text/html": [
       "<div>\n",
       "<style scoped>\n",
       "    .dataframe tbody tr th:only-of-type {\n",
       "        vertical-align: middle;\n",
       "    }\n",
       "\n",
       "    .dataframe tbody tr th {\n",
       "        vertical-align: top;\n",
       "    }\n",
       "\n",
       "    .dataframe thead th {\n",
       "        text-align: right;\n",
       "    }\n",
       "</style>\n",
       "<table border=\"1\" class=\"dataframe\">\n",
       "  <thead>\n",
       "    <tr style=\"text-align: right;\">\n",
       "      <th></th>\n",
       "      <th>user_id</th>\n",
       "      <th>item_id</th>\n",
       "      <th>category_id</th>\n",
       "      <th>behavior_type</th>\n",
       "      <th>timestamps</th>\n",
       "      <th>datetime</th>\n",
       "      <th>date</th>\n",
       "      <th>time</th>\n",
       "      <th>hour_of_day</th>\n",
       "      <th>weekday</th>\n",
       "    </tr>\n",
       "  </thead>\n",
       "  <tbody>\n",
       "    <tr>\n",
       "      <th>0</th>\n",
       "      <td>1</td>\n",
       "      <td>2333346</td>\n",
       "      <td>2520771</td>\n",
       "      <td>pv</td>\n",
       "      <td>1.511562e+09</td>\n",
       "      <td>2017-11-25 06:15:33</td>\n",
       "      <td>2017-11-25</td>\n",
       "      <td>06:15:33</td>\n",
       "      <td>6</td>\n",
       "      <td>5</td>\n",
       "    </tr>\n",
       "    <tr>\n",
       "      <th>1</th>\n",
       "      <td>1</td>\n",
       "      <td>2576651</td>\n",
       "      <td>149192</td>\n",
       "      <td>pv</td>\n",
       "      <td>1.511573e+09</td>\n",
       "      <td>2017-11-25 09:21:25</td>\n",
       "      <td>2017-11-25</td>\n",
       "      <td>09:21:25</td>\n",
       "      <td>9</td>\n",
       "      <td>5</td>\n",
       "    </tr>\n",
       "    <tr>\n",
       "      <th>2</th>\n",
       "      <td>1</td>\n",
       "      <td>3830808</td>\n",
       "      <td>4181361</td>\n",
       "      <td>pv</td>\n",
       "      <td>1.511593e+09</td>\n",
       "      <td>2017-11-25 15:04:53</td>\n",
       "      <td>2017-11-25</td>\n",
       "      <td>15:04:53</td>\n",
       "      <td>15</td>\n",
       "      <td>5</td>\n",
       "    </tr>\n",
       "    <tr>\n",
       "      <th>3</th>\n",
       "      <td>1</td>\n",
       "      <td>4365585</td>\n",
       "      <td>2520377</td>\n",
       "      <td>pv</td>\n",
       "      <td>1.511596e+09</td>\n",
       "      <td>2017-11-25 15:49:06</td>\n",
       "      <td>2017-11-25</td>\n",
       "      <td>15:49:06</td>\n",
       "      <td>15</td>\n",
       "      <td>5</td>\n",
       "    </tr>\n",
       "    <tr>\n",
       "      <th>4</th>\n",
       "      <td>1</td>\n",
       "      <td>4606018</td>\n",
       "      <td>2735466</td>\n",
       "      <td>pv</td>\n",
       "      <td>1.511616e+09</td>\n",
       "      <td>2017-11-25 21:28:01</td>\n",
       "      <td>2017-11-25</td>\n",
       "      <td>21:28:01</td>\n",
       "      <td>21</td>\n",
       "      <td>5</td>\n",
       "    </tr>\n",
       "  </tbody>\n",
       "</table>\n",
       "</div>"
      ],
      "text/plain": [
       "   user_id  item_id  category_id behavior_type    timestamps  \\\n",
       "0        1  2333346      2520771            pv  1.511562e+09   \n",
       "1        1  2576651       149192            pv  1.511573e+09   \n",
       "2        1  3830808      4181361            pv  1.511593e+09   \n",
       "3        1  4365585      2520377            pv  1.511596e+09   \n",
       "4        1  4606018      2735466            pv  1.511616e+09   \n",
       "\n",
       "             datetime       date      time  hour_of_day  weekday  \n",
       "0 2017-11-25 06:15:33 2017-11-25  06:15:33            6        5  \n",
       "1 2017-11-25 09:21:25 2017-11-25  09:21:25            9        5  \n",
       "2 2017-11-25 15:04:53 2017-11-25  15:04:53           15        5  \n",
       "3 2017-11-25 15:49:06 2017-11-25  15:49:06           15        5  \n",
       "4 2017-11-25 21:28:01 2017-11-25  21:28:01           21        5  "
      ]
     },
     "execution_count": 2,
     "metadata": {},
     "output_type": "execute_result"
    }
   ],
   "source": [
    "data = pd.read_csv('userbehavior.csv')\n",
    "data.dropna(inplace=True)\n",
    "data['datetime'] = pd.to_datetime(data['datetime'],format='%Y/%m/%d %H:%M:%S')\n",
    "data['date'] = data['datetime'].dt.date\n",
    "data['time'] = data['datetime'].dt.time\n",
    "data['hour_of_day'] = data['datetime'].dt.hour\n",
    "data['weekday'] = data['datetime'].dt.weekday\n",
    "data['date'] = pd.to_datetime(data['date'],format='%Y-%m-%d')\n",
    "df = data.loc[data['date']>='2017-11-25']\n",
    "df = df.loc[data['date']<'2017-12-04']\n",
    "df.head()"
   ]
  },
  {
   "cell_type": "markdown",
   "metadata": {},
   "source": [
    "## Acquisition"
   ]
  },
  {
   "cell_type": "code",
   "execution_count": 3,
   "metadata": {},
   "outputs": [
    {
     "data": {
      "text/html": [
       "<div>\n",
       "<style scoped>\n",
       "    .dataframe tbody tr th:only-of-type {\n",
       "        vertical-align: middle;\n",
       "    }\n",
       "\n",
       "    .dataframe tbody tr th {\n",
       "        vertical-align: top;\n",
       "    }\n",
       "\n",
       "    .dataframe thead th {\n",
       "        text-align: right;\n",
       "    }\n",
       "</style>\n",
       "<table border=\"1\" class=\"dataframe\">\n",
       "  <thead>\n",
       "    <tr style=\"text-align: right;\">\n",
       "      <th></th>\n",
       "      <th>pv_day</th>\n",
       "      <th>uv_day</th>\n",
       "      <th>pv/uv</th>\n",
       "    </tr>\n",
       "    <tr>\n",
       "      <th>date</th>\n",
       "      <th></th>\n",
       "      <th></th>\n",
       "      <th></th>\n",
       "    </tr>\n",
       "  </thead>\n",
       "  <tbody>\n",
       "    <tr>\n",
       "      <th>2017-11-25</th>\n",
       "      <td>354563</td>\n",
       "      <td>25944</td>\n",
       "      <td>13.666474</td>\n",
       "    </tr>\n",
       "    <tr>\n",
       "      <th>2017-11-26</th>\n",
       "      <td>364554</td>\n",
       "      <td>26377</td>\n",
       "      <td>13.820905</td>\n",
       "    </tr>\n",
       "    <tr>\n",
       "      <th>2017-11-27</th>\n",
       "      <td>341435</td>\n",
       "      <td>26098</td>\n",
       "      <td>13.082803</td>\n",
       "    </tr>\n",
       "    <tr>\n",
       "      <th>2017-11-28</th>\n",
       "      <td>338412</td>\n",
       "      <td>26138</td>\n",
       "      <td>12.947127</td>\n",
       "    </tr>\n",
       "    <tr>\n",
       "      <th>2017-11-29</th>\n",
       "      <td>349892</td>\n",
       "      <td>26578</td>\n",
       "      <td>13.164723</td>\n",
       "    </tr>\n",
       "  </tbody>\n",
       "</table>\n",
       "</div>"
      ],
      "text/plain": [
       "            pv_day  uv_day      pv/uv\n",
       "date                                 \n",
       "2017-11-25  354563   25944  13.666474\n",
       "2017-11-26  364554   26377  13.820905\n",
       "2017-11-27  341435   26098  13.082803\n",
       "2017-11-28  338412   26138  12.947127\n",
       "2017-11-29  349892   26578  13.164723"
      ]
     },
     "execution_count": 3,
     "metadata": {},
     "output_type": "execute_result"
    }
   ],
   "source": [
    "pv_day = df[df['behavior_type'] == 'pv'].groupby('date').count()[['behavior_type']]\n",
    "uv_day = df[df['behavior_type']=='pv'].drop_duplicates(['user_id','date']).groupby('date').count()[['user_id']]\n",
    "result1 = pd.merge(pv_day,uv_day,on='date')\n",
    "result1['pv/uv'] = result1['behavior_type']/result1['user_id']\n",
    "result1.columns = ['pv_day','uv_day','pv/uv']\n",
    "result1.head()"
   ]
  },
  {
   "cell_type": "code",
   "execution_count": 4,
   "metadata": {},
   "outputs": [
    {
     "data": {
      "text/plain": [
       "(array([736658., 736659., 736660., 736661., 736662., 736663., 736664.,\n",
       "        736665., 736666.]),\n",
       " <a list of 9 Text xticklabel objects>)"
      ]
     },
     "execution_count": 4,
     "metadata": {},
     "output_type": "execute_result"
    },
    {
     "data": {
      "image/png": "[encoded data removed]",
      "text/plain": [
       "<Figure size 576x576 with 3 Axes>"
      ]
     },
     "metadata": {
      "needs_background": "light"
     },
     "output_type": "display_data"
    }
   ],
   "source": [
    "f,[ax1,ax2,ax3] = plt.subplots(3,1,figsize=(8,8),sharex=True)\n",
    "ax1.plot(result1.index,result1['pv_day'],'bo-')\n",
    "ax1.set_title('PV/day')\n",
    "ax2.plot(result1.index,result1['uv_day'],'bo-')\n",
    "ax2.set_title('UV/day')\n",
    "ax3.plot(result1.index,result1['pv/uv'],'bo-')\n",
    "ax3.set_title('PV/UV')\n",
    "plt.xticks(rotation=25)"
   ]
  },
  {
   "cell_type": "markdown",
   "metadata": {},
   "source": [
    "## Activation"
   ]
  },
  {
   "cell_type": "markdown",
   "metadata": {},
   "source": [
    "### 时活跃用户数"
   ]
  },
  {
   "cell_type": "code",
   "execution_count": 8,
   "metadata": {},
   "outputs": [
    {
     "data": {
      "text/plain": [
       "<matplotlib.axes._subplots.AxesSubplot at 0x268f5d63248>"
      ]
     },
     "execution_count": 8,
     "metadata": {},
     "output_type": "execute_result"
    },
    {
     "data": {
      "image/png": "[encoded data removed]",
      "text/plain": [
       "<Figure size 504x216 with 1 Axes>"
      ]
     },
     "metadata": {
      "needs_background": "light"
     },
     "output_type": "display_data"
    }
   ],
   "source": [
    "AU_h = df.drop_duplicates(['user_id','hour_of_day','date']).groupby('hour_of_day')['user_id'].count()\n",
    "plt.figure(figsize=(7,3))\n",
    "AU_h.plot(color='b',marker='o')"
   ]
  },
  {
   "cell_type": "markdown",
   "metadata": {},
   "source": [
    "### 日活跃用户数"
   ]
  },
  {
   "cell_type": "code",
   "execution_count": 9,
   "metadata": {},
   "outputs": [
    {
     "data": {
      "text/plain": [
       "<matplotlib.axes._subplots.AxesSubplot at 0x268f9d178c8>"
      ]
     },
     "execution_count": 9,
     "metadata": {},
     "output_type": "execute_result"
    },
    {
     "data": {
      "image/png": "[encoded data removed]",
      "text/plain": [
       "<Figure size 504x216 with 1 Axes>"
      ]
     },
     "metadata": {
      "needs_background": "light"
     },
     "output_type": "display_data"
    }
   ],
   "source": [
    "AU_d = df.drop_duplicates(['user_id','date']).groupby('date')['user_id'].count()\n",
    "plt.figure(figsize=(7,3))\n",
    "AU_d.plot(color='b',marker='o')"
   ]
  },
  {
   "cell_type": "markdown",
   "metadata": {},
   "source": [
    "## Retention"
   ]
  },
  {
   "cell_type": "markdown",
   "metadata": {},
   "source": [
    "### 次日用户留存率"
   ]
  },
  {
   "cell_type": "code",
   "execution_count": 10,
   "metadata": {},
   "outputs": [
    {
     "data": {
      "text/plain": [
       "78.88805690752527"
      ]
     },
     "execution_count": 10,
     "metadata": {},
     "output_type": "execute_result"
    }
   ],
   "source": [
    "day1_userid = df.loc[df['date']=='2017-11-25'].drop_duplicates('user_id')['user_id'].to_list()\n",
    "day2_userid = []\n",
    "list_day2 = df.loc[df['date']=='2017-11-26'].drop_duplicates('user_id')['user_id'].to_list()\n",
    "for i in list_day2:\n",
    "    if i in day1_userid:\n",
    "        day2_userid.append(i)\n",
    "len(day2_userid)/len(day1_userid)*100"
   ]
  },
  {
   "cell_type": "markdown",
   "metadata": {},
   "source": [
    "### 三日用户留存率"
   ]
  },
  {
   "cell_type": "code",
   "execution_count": 11,
   "metadata": {},
   "outputs": [
    {
     "data": {
      "text/plain": [
       "76.98614751029577"
      ]
     },
     "execution_count": 11,
     "metadata": {},
     "output_type": "execute_result"
    }
   ],
   "source": [
    "day3_userid = []\n",
    "list_day3 = df.loc[df['date']=='2017-11-27'].drop_duplicates('user_id')['user_id'].to_list()\n",
    "for i in list_day3:\n",
    "    if i in day1_userid:\n",
    "        day3_userid.append(i)\n",
    "len(day3_userid)/len(day1_userid)*100"
   ]
  },
  {
   "cell_type": "markdown",
   "metadata": {},
   "source": [
    "### 七日用户留存率"
   ]
  },
  {
   "cell_type": "code",
   "execution_count": 12,
   "metadata": {},
   "outputs": [
    {
     "data": {
      "text/plain": [
       "77.540247098465"
      ]
     },
     "execution_count": 12,
     "metadata": {},
     "output_type": "execute_result"
    }
   ],
   "source": [
    "day7_userid = []\n",
    "list_day7 = df.loc[df['date']=='2017-12-01'].drop_duplicates('user_id')['user_id'].to_list()\n",
    "for i in list_day7:\n",
    "    if i in day1_userid:\n",
    "        day7_userid.append(i)\n",
    "len(day7_userid)/len(day1_userid)*100"
   ]
  },
  {
   "cell_type": "markdown",
   "metadata": {},
   "source": [
    "## Revenue"
   ]
  },
  {
   "cell_type": "markdown",
   "metadata": {},
   "source": [
    "### 用户购买行为数据漏斗图"
   ]
  },
  {
   "cell_type": "code",
   "execution_count": 81,
   "metadata": {},
   "outputs": [],
   "source": [
    "pv_users = df.loc[df['behavior_type'] == 'pv'].count()['user_id']\n",
    "cart_users = df.loc[df['behavior_type'] == 'cart'].count()['user_id']\n",
    "fav_users = df.loc[df['behavior_type'] == 'fav'].count()['user_id']\n",
    "buy_users = df.loc[df['behavior_type'] == 'buy'].count()['user_id']\n",
    "behavior_t= ['PV', 'CART', 'FAV', 'BUY']\n",
    "values = [np.around((pv_users / pv_users * 100), 2),\n",
    "         np.around((cart_users / pv_users * 100), 2),\n",
    "         np.around((fav_users / pv_users * 100), 2),\n",
    "         np.around((buy_users / pv_users * 100), 2)]\n",
    "funnel = (\n",
    "Funnel(init_opts=opts.InitOpts(width=\"1000px\", height=\"500px\")).add(\n",
    "    series_name=''\n",
    "    ,data_pair=[*(zip(behavior_t,values))]\n",
    "    ,gap=2\n",
    "    ,tooltip_opts=opts.TooltipOpts(formatter=\"{b}:{c}%\")\n",
    "    ,label_opts=opts.LabelOpts(is_show=True, position=\"inside\"))\n",
    "    .set_global_opts(title_opts=opts.TitleOpts(title=\"用户行为转化漏斗图\"))\n",
    "    .render('funnel_chart.html')\n",
    ")"
   ]
  },
  {
   "cell_type": "markdown",
   "metadata": {},
   "source": [
    "### 用户复购率"
   ]
  },
  {
   "cell_type": "code",
   "execution_count": 13,
   "metadata": {},
   "outputs": [
    {
     "data": {
      "text/plain": [
       "65.79527559055119"
      ]
     },
     "execution_count": 13,
     "metadata": {},
     "output_type": "execute_result"
    }
   ],
   "source": [
    "total_buy = df.loc[df['behavior_type']=='buy'].groupby('user_id').count()[['behavior_type']]\n",
    "total_buy_2 =total_buy.loc[total_buy['behavior_type']>1]\n",
    "len(total_buy_2)/len(total_buy)*100"
   ]
  },
  {
   "cell_type": "markdown",
   "metadata": {},
   "source": [
    "# 分析及建议"
   ]
  },
  {
   "cell_type": "markdown",
   "metadata": {},
   "source": [
    "分析：  \n",
    "--经查询2017年淘宝天猫活动表得知12月1日至12月6日为服饰焕新活动，11.23至11.27为咖啡节，11.27至11.29为火拼周。当进入服饰活动时，流量明显上升，说明客户对服饰类消费倾向更高。\n",
    "--从12月1日到12月2日，pv和uv都上升，但pv/uv下降，经计算pv的上涨率为27.6%，uv的上涨率为30.6%，pv的涨幅没有uv高，说明访问深度减少，跳失率增加，在做活动的时候是可解释的，用户被优惠卷或价格吸引而点击却没有深度浏览的意向。若进一步分析商品或商品类别，可分析出哪些商品在活动周具有较高的跳失率。\n",
    "\n",
    "建议：  \n",
    "--进一步对服饰类的商品进行细分，例如哪些商品为用户访问深度较高的商品，那些为跳出率较高的商品，访问深度高的对内容进行强调，跳出率高的进一步分析例如评论等原因做优化。再例如针对不同的目标客户群划分专场，例如儿童服饰，女士服装等，让用户定位更容易。\n",
    "通过对时活跃用户书的分析发现晚上8点左右为用户最为活跃时段，此时段要优化首页展示，提升转化率。\n",
    "\n",
    "拓展分析（本次分析未呈现）：  \n",
    "--哪类商品用户倾向于先加购物车观望，哪类商品用户倾向于收藏，哪类商品用户倾向于直接购买，倾向于收藏的用户对该类商品有更深的访问深度的倾向，可用智能推荐系统推荐更多的社群，从而增加用户对此类商品的了解，种草。倾向于直接购买的商品可用优惠券来进一步增加浏览到付款的转化率。\n"
   ]
  },
  {
   "cell_type": "markdown",
   "metadata": {},
   "source": [
    "# 参考\n",
    "https://www.cnblogs.com/colin1314/p/11227770.html  \n",
    "https://zhuanlan.zhihu.com/p/120087230  \n",
    "https://blog.csdn.net/fei347795790/article/details/98620124  "
   ]
  }
 ],
 "metadata": {
  "kernelspec": {
   "display_name": "Python 3",
   "language": "python",
   "name": "python3"
  },
  "language_info": {
   "codemirror_mode": {
    "name": "ipython",
    "version": 3
   },
   "file_extension": ".py",
   "mimetype": "text/x-python",
   "name": "python",
   "nbconvert_exporter": "python",
   "pygments_lexer": "ipython3",
   "version": "3.7.4"
  }
 },
 "nbformat": 4,
 "nbformat_minor": 4
}
